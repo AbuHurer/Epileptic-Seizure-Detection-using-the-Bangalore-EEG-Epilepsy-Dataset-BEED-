{
 "cells": [
  {
   "cell_type": "code",
   "execution_count": 4,
   "id": "945829e9",
   "metadata": {},
   "outputs": [
    {
     "name": "stdout",
     "output_type": "stream",
     "text": [
      "Saved healthy EEG test input as 'healthy_eeg_input.csv'\n"
     ]
    }
   ],
   "source": [
    "import pandas as pd\n",
    "\n",
    "# Load your dataset\n",
    "df = pd.read_csv(r\"C:\\Users\\saeem\\Desktop\\Epilepsy\\BEED_Data.csv\")\n",
    "\n",
    "# Extract 5 random Healthy samples (label == 0)\n",
    "healthy_samples = df[df['y'] == 0].sample(n=5, random_state=42)\n",
    "\n",
    "# Drop the label column to simulate input data\n",
    "healthy_input = healthy_samples.drop(columns=['y'])\n",
    "\n",
    "# Save to CSV\n",
    "healthy_input.to_csv(r\"C:\\Users\\saeem\\Desktop\\Epilepsy\\healthy_eeg_input.csv\", index=False)\n",
    "\n",
    "print(\"Saved healthy EEG test input as 'healthy_eeg_input.csv'\")\n"
   ]
  }
 ],
 "metadata": {
  "kernelspec": {
   "display_name": "Python 3",
   "language": "python",
   "name": "python3"
  },
  "language_info": {
   "codemirror_mode": {
    "name": "ipython",
    "version": 3
   },
   "file_extension": ".py",
   "mimetype": "text/x-python",
   "name": "python",
   "nbconvert_exporter": "python",
   "pygments_lexer": "ipython3",
   "version": "3.10.0"
  }
 },
 "nbformat": 4,
 "nbformat_minor": 5
}
